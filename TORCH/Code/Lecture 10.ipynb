{
  "cells": [
    {
      "cell_type": "code",
      "execution_count": 8,
      "metadata": {
        "id": "_JGFzW8tfqLf"
      },
      "outputs": [],
      "source": [
        " import torch\n",
        " import torch.nn as nn\n",
        " import torch.optim as optim\n",
        " import torchvision.datasets as dsets\n",
        " import torchvision.transforms as transforms\n",
        " import torch.nn.init\n",
        "\n",
        "device = 'cuda' if torch.cuda.is_available() else 'cpu'\n",
        "\n",
        "torch.manual_seed(1)\n",
        "if device == 'cuda':\n",
        "  torch.cuda.manual_seed_all(1)"
      ]
    },
    {
      "cell_type": "code",
      "execution_count": 9,
      "metadata": {
        "id": "q6dfMhwDQzat"
      },
      "outputs": [],
      "source": [
        "learning_rate = 0.01\n",
        "training_epochs = 30\n",
        "batch_size = 100"
      ]
    },
    {
      "cell_type": "code",
      "execution_count": 10,
      "metadata": {
        "id": "Au-SeiOvQ6ga"
      },
      "outputs": [],
      "source": [
        "mnist_train = dsets.MNIST(root='MNIST_data/',\n",
        "                          train=True,\n",
        "                          transform=transforms.ToTensor(),\n",
        "                          download=True)\n",
        "\n",
        "mnist_test = dsets.MNIST(root='MNIST_data/',\n",
        "                          train=False,\n",
        "                          transform=transforms.ToTensor(),\n",
        "                          download=True)\n",
        "\n",
        "data_loader = torch.utils.data.DataLoader(dataset=mnist_train,\n",
        "                                           batch_size=batch_size,\n",
        "                                           shuffle=True,\n",
        "                                           drop_last=True)"
      ]
    },
    {
      "cell_type": "code",
      "execution_count": 11,
      "metadata": {
        "colab": {
          "base_uri": "https://localhost:8080/"
        },
        "id": "GDLW9W-cRXuH",
        "outputId": "d67b7d61-1f9f-486e-e400-f6783ecb408d"
      },
      "outputs": [
        {
          "name": "stderr",
          "output_type": "stream",
          "text": [
            "/usr/local/lib/python3.7/dist-packages/ipykernel_launcher.py:15: UserWarning: nn.init.xavier_normal is now deprecated in favor of nn.init.xavier_normal_.\n",
            "  from ipykernel import kernelapp as app\n"
          ]
        },
        {
          "data": {
            "text/plain": [
              "CNN(\n",
              "  (layer1): Sequential(\n",
              "    (0): Conv2d(1, 32, kernel_size=(3, 3), stride=(1, 1), padding=(1, 1))\n",
              "    (1): ReLU()\n",
              "    (2): MaxPool2d(kernel_size=2, stride=2, padding=0, dilation=1, ceil_mode=False)\n",
              "  )\n",
              "  (layer2): Sequential(\n",
              "    (0): Conv2d(32, 64, kernel_size=(3, 3), stride=(1, 1), padding=(1, 1))\n",
              "    (1): ReLU()\n",
              "    (2): MaxPool2d(kernel_size=2, stride=2, padding=0, dilation=1, ceil_mode=False)\n",
              "  )\n",
              "  (fc): Linear(in_features=3136, out_features=10, bias=True)\n",
              ")"
            ]
          },
          "execution_count": 11,
          "metadata": {},
          "output_type": "execute_result"
        }
      ],
      "source": [
        "class CNN(nn.Module):\n",
        "  def __init__(self):\n",
        "    super().__init__()\n",
        "    self.layer1 = nn.Sequential(\n",
        "        nn.Conv2d(1,32,kernel_size=3,stride=1,padding=1),\n",
        "        nn.ReLU(),\n",
        "        nn.MaxPool2d(kernel_size=2)\n",
        "    )\n",
        "    self.layer2 = nn.Sequential(\n",
        "        nn.Conv2d(32,64,kernel_size=3,stride=1,padding=1),\n",
        "        nn.ReLU(),\n",
        "        nn.MaxPool2d(kernel_size=2)\n",
        "    )\n",
        "    self.fc = nn.Linear(7*7*64,10,bias=True)\n",
        "    torch.nn.init.xavier_normal(self.fc.weight)\n",
        "    \n",
        "  def forward(self, X):\n",
        "    out = self.layer2(self.layer1(X))\n",
        "    out = out.view(out.size(0), -1) # flatten\n",
        "    out = self.fc(out)\n",
        "    return out\n",
        "\n",
        "model = CNN().to(device)\n",
        "model"
      ]
    },
    {
      "cell_type": "code",
      "execution_count": 12,
      "metadata": {
        "id": "KhJ7yNcQS3Vp"
      },
      "outputs": [],
      "source": [
        "criterion = nn.CrossEntropyLoss().to(device)\n",
        "optimizer = optim.Adam(model.parameters(), lr=learning_rate)"
      ]
    },
    {
      "cell_type": "code",
      "execution_count": 13,
      "metadata": {
        "colab": {
          "base_uri": "https://localhost:8080/"
        },
        "id": "DLU51NMmTESq",
        "outputId": "4dfd4488-cb80-402a-8266-7347c7fdbbd3"
      },
      "outputs": [
        {
          "name": "stdout",
          "output_type": "stream",
          "text": [
            "Epoch : 1, Cost : 0.021993055939674377\n",
            "Epoch : 2, Cost : 0.10906434804201126\n",
            "Epoch : 3, Cost : 0.16623371839523315\n",
            "Epoch : 4, Cost : 0.06936493515968323\n",
            "Epoch : 5, Cost : 0.08605629950761795\n",
            "Epoch : 6, Cost : 0.06080390885472298\n",
            "Epoch : 7, Cost : 0.001118457061238587\n",
            "Epoch : 8, Cost : 0.07860200107097626\n",
            "Epoch : 9, Cost : 0.03408510982990265\n",
            "Epoch : 10, Cost : 0.06724964827299118\n",
            "Epoch : 11, Cost : 0.05550433322787285\n",
            "Epoch : 12, Cost : 0.044143568724393845\n",
            "Epoch : 13, Cost : 0.0034704357385635376\n",
            "Epoch : 14, Cost : 0.02649528905749321\n",
            "Epoch : 15, Cost : 0.04878085106611252\n",
            "Epoch : 16, Cost : 0.06858653575181961\n",
            "Epoch : 17, Cost : 0.06245483085513115\n",
            "Epoch : 18, Cost : 0.09892137348651886\n",
            "Epoch : 19, Cost : 0.018316371366381645\n",
            "Epoch : 20, Cost : 0.08595362305641174\n",
            "Epoch : 21, Cost : 0.001708383671939373\n",
            "Epoch : 22, Cost : 0.00039490938070230186\n",
            "Epoch : 23, Cost : 0.020072368904948235\n",
            "Epoch : 24, Cost : 0.023334041237831116\n",
            "Epoch : 25, Cost : 0.13385628163814545\n",
            "Epoch : 26, Cost : 0.02515234984457493\n",
            "Epoch : 27, Cost : 0.0629444494843483\n",
            "Epoch : 28, Cost : 0.05116937309503555\n",
            "Epoch : 29, Cost : 0.05111435055732727\n",
            "Epoch : 30, Cost : 0.022454148158431053\n"
          ]
        }
      ],
      "source": [
        "total_batch = len(data_loader)\n",
        "model.train()\n",
        "for epoch in range(training_epochs):\n",
        "  avg_cost = 0\n",
        "\n",
        "  for X, Y in data_loader:\n",
        "    X = X.to(device)\n",
        "    Y = Y.to(device)\n",
        "\n",
        "    optimizer.zero_grad()\n",
        "    cost = criterion(model(X), Y)\n",
        "    cost.backward()\n",
        "    optimizer.step()\n",
        "\n",
        "    avg_cost += cost / total_batch\n",
        "  print(\"Epoch : {}, Cost : {}\".format(epoch + 1, cost.item()))"
      ]
    },
    {
      "cell_type": "code",
      "execution_count": 15,
      "metadata": {
        "colab": {
          "base_uri": "https://localhost:8080/"
        },
        "id": "HfpeZPrWT6cm",
        "outputId": "acf23bd7-0539-4dcd-a288-8fc2a3b8b3b2"
      },
      "outputs": [
        {
          "name": "stderr",
          "output_type": "stream",
          "text": [
            "/usr/local/lib/python3.7/dist-packages/torchvision/datasets/mnist.py:67: UserWarning: test_data has been renamed data\n",
            "  warnings.warn(\"test_data has been renamed data\")\n",
            "/usr/local/lib/python3.7/dist-packages/torchvision/datasets/mnist.py:57: UserWarning: test_labels has been renamed targets\n",
            "  warnings.warn(\"test_labels has been renamed targets\")\n"
          ]
        },
        {
          "name": "stdout",
          "output_type": "stream",
          "text": [
            "acc : 0.8392999768257141\n"
          ]
        }
      ],
      "source": [
        "# test\n",
        "model.eval()\n",
        "with torch.no_grad():\n",
        "  X_test = mnist_test.test_data.view(len(mnist_test), 1, 28, 28).float().to(device)\n",
        "  Y_test = mnist_test.test_labels.to(device)\n",
        "\n",
        "  prediction = model(X_test)\n",
        "  accuracy = (torch.argmax(prediction,1) == Y_test).float().mean()\n",
        "  print(\"acc : {}\".format(accuracy))"
      ]
    },
    {
      "cell_type": "markdown",
      "metadata": {
        "id": "sIhssrQ-U3LS"
      },
      "source": [
        "10 - 2"
      ]
    },
    {
      "cell_type": "code",
      "execution_count": 16,
      "metadata": {
        "id": "xLOKcB_SVuL0"
      },
      "outputs": [],
      "source": [
        " import torch\n",
        " import torch.nn as nn\n",
        " import torch.optim as optim\n",
        " import torchvision.datasets as dsets\n",
        " import torchvision.transforms as transforms\n",
        " import torch.nn.init\n",
        "\n",
        "device = 'cuda' if torch.cuda.is_available() else 'cpu'\n",
        "\n",
        "torch.manual_seed(1)\n",
        "if device == 'cuda':\n",
        "  torch.cuda.manual_seed_all(1)\n",
        "\n",
        "# dataset loader\n",
        "data_loader = torch.utils.data.DataLoader(dataset=mnist_train,\n",
        "                                          batch_size=batch_size,\n",
        "                                          shuffle=True,\n",
        "                                          drop_last=True)"
      ]
    },
    {
      "cell_type": "code",
      "execution_count": 21,
      "metadata": {
        "colab": {
          "base_uri": "https://localhost:8080/",
          "height": 136
        },
        "id": "OrBzBqb2Vy9l",
        "outputId": "ba28248e-14c6-40f3-92fa-0ccff38f9b5c"
      },
      "outputs": [
        {
          "ename": "SyntaxError",
          "evalue": "ignored",
          "output_type": "error",
          "traceback": [
            "\u001b[0;36m  File \u001b[0;32m\"<ipython-input-21-79cb1e397008>\"\u001b[0;36m, line \u001b[0;32m6\u001b[0m\n\u001b[0;31m    nn.ReLU()\u001b[0m\n\u001b[0m     ^\u001b[0m\n\u001b[0;31mSyntaxError\u001b[0m\u001b[0;31m:\u001b[0m invalid syntax\n"
          ]
        }
      ],
      "source": [
        "class CNN(nn.Module):\n",
        "  def __init__(self):\n",
        "    super().__init__()\n",
        "    self.layer1 = nn.Sequential(\n",
        "        nn.Conv2d(1,32,kernel_size=3,stride=1,padding=1)\n",
        "        nn.ReLU()\n",
        "        nn.MaxPool2d(kernel_size=2)\n",
        "    )\n",
        "    self.layer2 = nn.Sequential(\n",
        "        nn.Conv2d(32,64,kernel_size=3,stride=1,padding=1)\n",
        "        nn.ReLU()\n",
        "        nn.MaxPool2d(kernel_size=2)\n",
        "    )\n",
        "    self.layer3 = nn.Sequential(\n",
        "        nn.Conv2d(64,128,kernel_size=3,stride=1,padding=1)\n",
        "        nn.ReLU()\n",
        "        nn.MaxPool2d(kernel_size=2,padding=1)\n",
        "    )\n",
        "    # 128 * 4 * 4 \n",
        "    self.fc1 = nn.Linear(4*4*128,625,bias=True)\n",
        "    nn.init.xavier_uniform_(self.fc1.weight)\n",
        "    self.layer4 = nn.Sequential(\n",
        "        self.fc1,\n",
        "        nn.ReLU()\n",
        "        nn.Dropout(p = 0.5)\n",
        "    )\n",
        "    self.fc2 = nn.Linear(625,10,bias=True)\n",
        "    nn.init.xavier_uniform_(self.fc2.weight)\n",
        "\n",
        "  def forward(self, x):\n",
        "    out = self.layer3(self.layer2(self.layer1(x)))\n",
        "    out = self.fc2(self.layer4(out.view(out.size(0),-1)))\n",
        "    return out"
      ]
    },
    {
      "cell_type": "code",
      "execution_count": null,
      "metadata": {
        "id": "-Z2BufGGXiER"
      },
      "outputs": [],
      "source": [
        "model = CNN().to(device)"
      ]
    },
    {
      "cell_type": "code",
      "execution_count": 19,
      "metadata": {
        "colab": {
          "base_uri": "https://localhost:8080/"
        },
        "id": "zipOfqZDXtYi",
        "outputId": "c7946250-c03a-4d33-8e3c-aebe28b0febe"
      },
      "outputs": [
        {
          "name": "stdout",
          "output_type": "stream",
          "text": [
            "Epoch : 1, Cost : 5.0063612434314564e-05\n",
            "Epoch : 2, Cost : 7.825255306670442e-05\n",
            "Epoch : 3, Cost : 0.00022808001085650176\n",
            "Epoch : 4, Cost : 8.084737055469304e-05\n",
            "Epoch : 5, Cost : 0.00010960344661725685\n",
            "Epoch : 6, Cost : 2.9082742912578396e-05\n",
            "Epoch : 7, Cost : 9.671910447650589e-06\n",
            "Epoch : 8, Cost : 0.00015555396385025233\n",
            "Epoch : 9, Cost : 8.919455285649747e-05\n",
            "Epoch : 10, Cost : 8.891185279935598e-05\n",
            "Epoch : 11, Cost : 6.738373485859483e-05\n",
            "Epoch : 12, Cost : 8.272546983789653e-05\n",
            "Epoch : 13, Cost : 7.672470928810071e-06\n",
            "Epoch : 14, Cost : 4.775029083248228e-05\n",
            "Epoch : 15, Cost : 4.316477497923188e-05\n",
            "Epoch : 16, Cost : 0.00010075666068587452\n",
            "Epoch : 17, Cost : 4.6731947804801166e-05\n",
            "Epoch : 18, Cost : 0.00012843649892602116\n",
            "Epoch : 19, Cost : 1.1253879165451508e-05\n",
            "Epoch : 20, Cost : 8.20615459815599e-05\n",
            "Epoch : 21, Cost : 8.004592382349074e-05\n",
            "Epoch : 22, Cost : 1.8822306628862862e-06\n",
            "Epoch : 23, Cost : 5.5449214414693415e-05\n",
            "Epoch : 24, Cost : 3.7776499084429815e-05\n",
            "Epoch : 25, Cost : 0.00010195033246418461\n",
            "Epoch : 26, Cost : 1.2470893295812857e-07\n",
            "Epoch : 27, Cost : 9.12670002435334e-05\n",
            "Epoch : 28, Cost : 6.633149041590514e-06\n",
            "Epoch : 29, Cost : 2.1304227630025707e-05\n",
            "Epoch : 30, Cost : 2.2039081159164198e-05\n"
          ]
        }
      ],
      "source": [
        "criterion = nn.CrossEntropyLoss().to(device)\n",
        "optimizer = torch.optim.Adam(model.parameters(), lr=learning_rate)\n",
        "total_batch = len(data_loader)\n",
        "model.train()\n",
        "for epoch in range(training_epochs):\n",
        "  avg_cost = 0\n",
        "  for X, Y in data_loader:\n",
        "    X = X.to(device)\n",
        "    Y = Y.to(device)\n",
        "\n",
        "    optimizer.zero_grad()\n",
        "    hypothesis = model(X)\n",
        "    cost = criterion(hypothesis, Y)\n",
        "    cost.backward()\n",
        "    optimizer.step()\n",
        "\n",
        "    avg_cost = cost / total_batch\n",
        "  print(\"Epoch : {}, Cost : {}\".format(epoch + 1, avg_cost))"
      ]
    },
    {
      "cell_type": "code",
      "execution_count": 20,
      "metadata": {
        "colab": {
          "base_uri": "https://localhost:8080/"
        },
        "id": "Yb14LpnwVzVj",
        "outputId": "ebafec91-ac5c-45ff-8137-adf46c974ba1"
      },
      "outputs": [
        {
          "name": "stderr",
          "output_type": "stream",
          "text": [
            "/usr/local/lib/python3.7/dist-packages/torchvision/datasets/mnist.py:67: UserWarning: test_data has been renamed data\n",
            "  warnings.warn(\"test_data has been renamed data\")\n",
            "/usr/local/lib/python3.7/dist-packages/torchvision/datasets/mnist.py:57: UserWarning: test_labels has been renamed targets\n",
            "  warnings.warn(\"test_labels has been renamed targets\")\n"
          ]
        },
        {
          "name": "stdout",
          "output_type": "stream",
          "text": [
            "Accuracy: 0.8905999660491943\n"
          ]
        }
      ],
      "source": [
        "# Test model and check accuracy\n",
        "with torch.no_grad():\n",
        "    model.eval()    # set the model to evaluation mode (dropout=False)\n",
        "\n",
        "    X_test = mnist_test.test_data.view(len(mnist_test), 1, 28, 28).float().to(device)\n",
        "    Y_test = mnist_test.test_labels.to(device)\n",
        "\n",
        "    prediction = model(X_test)\n",
        "    correct_prediction = torch.argmax(prediction, 1) == Y_test\n",
        "    accuracy = correct_prediction.float().mean()\n",
        "    print('Accuracy:', accuracy.item())"
      ]
    },
    {
      "cell_type": "markdown",
      "metadata": {
        "id": "oKn_dadoY2G_"
      },
      "source": [
        "# Visdom"
      ]
    },
    {
      "cell_type": "code",
      "execution_count": 40,
      "metadata": {},
      "outputs": [
        {
          "name": "stderr",
          "output_type": "stream",
          "text": [
            "Setting up a new session...\n",
            "Visdom python client failed to establish socket to get messages from the server. This feature is optional and can be disabled by initializing Visdom with `use_incoming_socket=False`, which will prevent waiting for this request to timeout.\n"
          ]
        }
      ],
      "source": [
        "import torch\n",
        "import torch.nn as nn\n",
        "\n",
        "import torchvision\n",
        "import torchvision.datasets as dsets\n",
        "\n",
        "# pip install visdom\n",
        "# python -m visdom.server\n",
        "\n",
        "import visdom\n",
        "vis = visdom.Visdom()\n",
        "vis.close(env = 'main')"
      ]
    },
    {
      "cell_type": "code",
      "execution_count": 41,
      "metadata": {},
      "outputs": [
        {
          "data": {
            "text/plain": [
              "'window_3a607ecbf69214'"
            ]
          },
          "execution_count": 41,
          "metadata": {},
          "output_type": "execute_result"
        }
      ],
      "source": [
        "# text\n",
        "vis.text(\"Hello, world!\",env=\"main\") # env를 설정해줘야 나중에 한번에 종료가된다.\n",
        "\n",
        "# image\n",
        "a=torch.randn(3,200,200)\n",
        "vis.image(a)"
      ]
    },
    {
      "cell_type": "code",
      "execution_count": 42,
      "metadata": {},
      "outputs": [
        {
          "name": "stdout",
          "output_type": "stream",
          "text": [
            "Files already downloaded and verified\n"
          ]
        }
      ],
      "source": [
        "MNIST = dsets.MNIST(root=\"./MNIST_data\", train = True,\n",
        "                    transform=torchvision.transforms.ToTensor(),\n",
        "                    download=True)\n",
        "\n",
        "CIFAR10 = dsets.CIFAR10(root=\"./CIFAR10_data\", train = True,\n",
        "                        transform=torchvision.transforms.ToTensor(),\n",
        "                        download=True)"
      ]
    },
    {
      "cell_type": "code",
      "execution_count": 43,
      "metadata": {},
      "outputs": [
        {
          "name": "stdout",
          "output_type": "stream",
          "text": [
            "torch.Size([3, 32, 32])\n"
          ]
        },
        {
          "data": {
            "text/plain": [
              "'window_3a607ecce31cd6'"
            ]
          },
          "execution_count": 43,
          "metadata": {},
          "output_type": "execute_result"
        }
      ],
      "source": [
        "# data 하나 꺼내서 확인\n",
        "data = CIFAR10.__getitem__(0)\n",
        "print(data[0].shape)\n",
        "vis.images(data[0], env='main')"
      ]
    },
    {
      "cell_type": "code",
      "execution_count": 44,
      "metadata": {},
      "outputs": [
        {
          "name": "stdout",
          "output_type": "stream",
          "text": [
            "torch.Size([1, 28, 28])\n"
          ]
        },
        {
          "data": {
            "text/plain": [
              "'window_3a607eccf01208'"
            ]
          },
          "execution_count": 44,
          "metadata": {},
          "output_type": "execute_result"
        }
      ],
      "source": [
        "# data 하나 꺼내서 확인\n",
        "data = MNIST.__getitem__(0)\n",
        "print(data[0].shape)\n",
        "vis.images(data[0], env='main')"
      ]
    },
    {
      "cell_type": "code",
      "execution_count": 45,
      "metadata": {},
      "outputs": [
        {
          "name": "stdout",
          "output_type": "stream",
          "text": [
            "torch.Size([32, 1, 28, 28])\n"
          ]
        }
      ],
      "source": [
        "# 여러 data 나열\n",
        "data_loader = torch.utils.data.DataLoader(dataset=MNIST,\n",
        "                                          batch_size=32,\n",
        "                                          shuffle=True,\n",
        "                                          drop_last=True)\n",
        "\n",
        "for num, value in enumerate(data_loader):\n",
        "    value = value[0]\n",
        "    print(value.shape)\n",
        "    vis.images(value)\n",
        "    break"
      ]
    },
    {
      "cell_type": "code",
      "execution_count": 46,
      "metadata": {},
      "outputs": [
        {
          "data": {
            "text/plain": [
              "''"
            ]
          },
          "execution_count": 46,
          "metadata": {},
          "output_type": "execute_result"
        }
      ],
      "source": [
        "# main 종료\n",
        "vis.close(env='main')"
      ]
    },
    {
      "cell_type": "code",
      "execution_count": 47,
      "metadata": {},
      "outputs": [],
      "source": [
        "# 선 그리기\n",
        "Y = torch.randn(5)\n",
        "plt = vis.line(Y = Y) # 강제로 x축이 0 ~ 1이 된다."
      ]
    },
    {
      "cell_type": "code",
      "execution_count": 48,
      "metadata": {},
      "outputs": [],
      "source": [
        "X = torch.Tensor([1,2,3,4,5])\n",
        "plt = vis.line(Y = Y, X = X) # x축 설정해준다."
      ]
    },
    {
      "cell_type": "code",
      "execution_count": 49,
      "metadata": {},
      "outputs": [
        {
          "data": {
            "text/plain": [
              "'window_3a607ecd171d06'"
            ]
          },
          "execution_count": 49,
          "metadata": {},
          "output_type": "execute_result"
        }
      ],
      "source": [
        "# 선 업데이트/추가\n",
        "\n",
        "Y_append = torch.randn(1)\n",
        "X_append = torch.Tensor([6])\n",
        "\n",
        "vis.line(Y=Y_append, X=X_append, win=plt, update='append')"
      ]
    },
    {
      "cell_type": "code",
      "execution_count": 50,
      "metadata": {},
      "outputs": [],
      "source": [
        "# 한 창에 여러 그래프\n",
        "\n",
        "# line을 두개를 그리려면 Y와 똑같은 shpae의 X가 들어가야한다.\n",
        "num = torch.Tensor(list(range(10))).view(-1,1)\n",
        "num = torch.cat((num,num),dim=1)\n",
        "\n",
        "# Y를 10 * 2 텐서로 넣는다.\n",
        "plt = vis.line(Y=torch.randn(10,2), X=num) "
      ]
    },
    {
      "cell_type": "code",
      "execution_count": 51,
      "metadata": {},
      "outputs": [],
      "source": [
        "# Title, Legend 추가\n",
        "\n",
        "plt = vis.line(Y=Y, X=X, opts=dict(title='Test', showlegend=True))\n",
        "plt = vis.line(Y=Y, X=X, opts=dict(title='Test', legend=['1번'], showlegend=True))\n",
        "plt = vis.line(Y=torch.randn(10,2), X=num, opts=dict(title='Test', legend=['1번','2번'], showlegend=True))"
      ]
    },
    {
      "cell_type": "code",
      "execution_count": 56,
      "metadata": {},
      "outputs": [],
      "source": [
        "# update line function 만들기\n",
        "\n",
        "def loss_tracker(loss_plot, loss_value, num):\n",
        "    vis.line(X=num, Y=loss_value,\n",
        "             win=loss_plot, update='append')\n",
        "\n",
        "plt = vis.line(Y=torch.Tensor(1).zero_()) # pytorch의 _가 끝에 붙는 메서드는 메모리 재할당이 없다.\n",
        "\n",
        "for i in range(500):\n",
        "    loss = torch.randn(1) + i\n",
        "    loss_tracker(plt, loss, torch.Tensor([i]))"
      ]
    },
    {
      "cell_type": "code",
      "execution_count": 57,
      "metadata": {},
      "outputs": [
        {
          "data": {
            "text/plain": [
              "''"
            ]
          },
          "execution_count": 57,
          "metadata": {},
          "output_type": "execute_result"
        }
      ],
      "source": [
        "vis.close(env='main')"
      ]
    },
    {
      "cell_type": "markdown",
      "metadata": {},
      "source": [
        "# CNN with Visdom"
      ]
    },
    {
      "cell_type": "code",
      "execution_count": 72,
      "metadata": {},
      "outputs": [
        {
          "name": "stderr",
          "output_type": "stream",
          "text": [
            "Setting up a new session...\n"
          ]
        }
      ],
      "source": [
        "import torch\n",
        "import torch.nn as nn\n",
        "\n",
        "import torchvision\n",
        "import torchvision.datasets as dsets\n",
        "\n",
        "device = 'cuda' if torch.cuda.is_available() else 'cpu'\n",
        "\n",
        "torch.manual_seed(777)\n",
        "if device =='cuda':\n",
        "    torch.cuda.manual_seed_all(777)\n",
        "\n",
        "# pip install visdom\n",
        "# python -m visdom.server\n",
        "\n",
        "import visdom\n",
        "vis = visdom.Visdom()\n",
        "vis.close(env = 'main')\n",
        "\n",
        "#parameters\n",
        "learning_rate = 0.001\n",
        "training_epochs = 15\n",
        "batch_size = 32"
      ]
    },
    {
      "cell_type": "code",
      "execution_count": 73,
      "metadata": {},
      "outputs": [],
      "source": [
        "trainset = dsets.MNIST(root=\"./MNIST_data\", train = True,\n",
        "                    transform=torchvision.transforms.ToTensor(),\n",
        "                    download=True)\n",
        "\n",
        "testset = dsets.MNIST(root=\"./MNIST_data\", train = False,\n",
        "                    transform=torchvision.transforms.ToTensor(),\n",
        "                    download=True)\n",
        "\n",
        "data_loader = torch.utils.data.DataLoader(dataset=trainset,\n",
        "                                          batch_size=32,\n",
        "                                          shuffle=True,\n",
        "                                          drop_last=True)"
      ]
    },
    {
      "cell_type": "code",
      "execution_count": 74,
      "metadata": {},
      "outputs": [],
      "source": [
        "class CNN(nn.Module):\n",
        "    def __init__(self):\n",
        "        super(CNN, self).__init__()\n",
        "        self.layer1 = nn.Sequential(\n",
        "            nn.Conv2d(1,32,kernel_size=3, stride=1, padding=1),\n",
        "            nn.ReLU(),\n",
        "            nn.MaxPool2d(2)\n",
        "        )\n",
        "        \n",
        "        self.layer2 = nn.Sequential(\n",
        "            nn.Conv2d(32,64, kernel_size=3, stride=1, padding=1),\n",
        "            nn.ReLU(),\n",
        "            nn.MaxPool2d(2)\n",
        "        )\n",
        "        \n",
        "        self.layer3 = nn.Sequential(\n",
        "            nn.Conv2d(64,128, kernel_size=3, stride=1, padding=1),\n",
        "            nn.ReLU(),\n",
        "            nn.MaxPool2d(2)\n",
        "        )\n",
        "        \n",
        "        self.fc1 = nn.Linear(3*3*128, 625)\n",
        "        self.relu = nn.ReLU()\n",
        "        self.fc2 = nn.Linear(625, 10, bias =True)\n",
        "        torch.nn.init.xavier_uniform_(self.fc1.weight)\n",
        "        torch.nn.init.xavier_uniform_(self.fc2.weight)\n",
        "    \n",
        "    def forward(self, x):\n",
        "        out = self.layer3(self.layer2(self.layer1(x)))\n",
        "        out = out.view(out.size(0), -1)\n",
        "        out = self.fc2(self.relu(self.fc1(out)))\n",
        "        return out\n",
        "\n",
        "model = CNN().to(device)"
      ]
    },
    {
      "cell_type": "code",
      "execution_count": 75,
      "metadata": {},
      "outputs": [
        {
          "name": "stdout",
          "output_type": "stream",
          "text": [
            "torch.Size([1, 1, 28, 28])\n",
            "torch.Size([1, 10])\n"
          ]
        }
      ],
      "source": [
        "model = CNN().to(device)\n",
        "\n",
        "value = torch.Tensor(1,1,28,28).to(device)\n",
        "print(value.shape)\n",
        "print(model(value).shape) # test code"
      ]
    },
    {
      "cell_type": "code",
      "execution_count": 76,
      "metadata": {},
      "outputs": [],
      "source": [
        "criterion = nn.CrossEntropyLoss().to(device)\n",
        "optimizer = torch.optim.Adam(model.parameters(), lr=learning_rate)"
      ]
    },
    {
      "cell_type": "code",
      "execution_count": 77,
      "metadata": {},
      "outputs": [],
      "source": [
        "def loss_tracker(loss_plot, loss_value, num):\n",
        "    '''num, loss_value, are Tensor'''\n",
        "    vis.line(X=num,\n",
        "             Y=loss_value,\n",
        "             win = loss_plot,\n",
        "             update='append'\n",
        "             )\n",
        "\n",
        "loss_plt = vis.line(Y = torch.Tensor(1).zero_(),\n",
        "                    opts=dict(title='loss_tracker', legend=['loss'],\n",
        "                              showlegend=True))"
      ]
    },
    {
      "cell_type": "code",
      "execution_count": 78,
      "metadata": {},
      "outputs": [
        {
          "name": "stdout",
          "output_type": "stream",
          "text": [
            "Epoch : 1, Loss : 0.07203266769647598\n",
            "Epoch : 2, Loss : 0.00018459804414305836\n",
            "Epoch : 3, Loss : 0.005822018254548311\n",
            "Epoch : 4, Loss : 0.011369741521775723\n",
            "Epoch : 5, Loss : 0.016293026506900787\n",
            "Epoch : 6, Loss : 0.08581241965293884\n",
            "Epoch : 7, Loss : 0.0847674161195755\n",
            "Epoch : 8, Loss : 0.0001390605902997777\n",
            "Epoch : 9, Loss : 3.4272602533746976e-07\n"
          ]
        }
      ],
      "source": [
        "# train\n",
        "total_batch = len(data_loader)\n",
        "for epoch in range(1, training_epochs + 1):\n",
        "    avg_cost = 0\n",
        "    for X, Y in data_loader:\n",
        "        X = X.to(device)\n",
        "        Y = Y.to(device)\n",
        "        \n",
        "        optimizer.zero_grad()\n",
        "        hypothesis = model(X)\n",
        "        \n",
        "        loss = criterion(hypothesis, Y)\n",
        "        loss.backward()\n",
        "        optimizer.step()\n",
        "        \n",
        "        avg_cost += loss / total_batch\n",
        "    print(\"Epoch : {}, Loss : {}\".format(epoch, loss))\n",
        "    # loss_tracker(loss_plt, torch.Tensor([avg_cost]), torch.Tensor([epoch]))\n",
        "\n",
        "with torch.no_grad():\n",
        "    X_test = testset.test_data.view(len(testset), 1, 28, 28).float().to(device)\n",
        "    Y_test = testset.test_labels.to(device)\n",
        "    \n",
        "    prediction = model(X_test)\n",
        "    correct_prediction = torch.argmax(prediction, 1) == Y_test\n",
        "    accuracy = correct_prediction.float().mean() \n",
        "    print('Accuracy:', accuracy.item())"
      ]
    }
  ],
  "metadata": {
    "accelerator": "GPU",
    "colab": {
      "collapsed_sections": [],
      "name": "Lecture 10.ipynb",
      "provenance": []
    },
    "kernelspec": {
      "display_name": "Python 3",
      "name": "python3"
    },
    "language_info": {
      "codemirror_mode": {
        "name": "ipython",
        "version": 3
      },
      "file_extension": ".py",
      "mimetype": "text/x-python",
      "name": "python",
      "nbconvert_exporter": "python",
      "pygments_lexer": "ipython3",
      "version": "3.9.7"
    }
  },
  "nbformat": 4,
  "nbformat_minor": 0
}
