{
 "cells": [
  {
   "cell_type": "markdown",
   "metadata": {},
   "source": [
    "# RNN basic"
   ]
  },
  {
   "cell_type": "code",
   "execution_count": 4,
   "metadata": {},
   "outputs": [
    {
     "data": {
      "text/plain": [
       "(tensor([[[-2.9900e-01,  3.8565e-01],\n",
       "          [-3.0545e-01, -2.3096e-01],\n",
       "          [ 5.4712e-02,  3.4899e-01],\n",
       "          [ 5.4712e-02,  3.4899e-01],\n",
       "          [-2.5851e-04, -7.2400e-02]],\n",
       " \n",
       "         [[-1.9219e-01, -3.7659e-01],\n",
       "          [-1.1238e-01, -3.0117e-01],\n",
       "          [ 1.8887e-01,  4.1643e-01],\n",
       "          [ 1.8887e-01,  4.1643e-01],\n",
       "          [ 2.7383e-02,  3.4129e-01]],\n",
       " \n",
       "         [[-1.0310e-01,  1.8486e-01],\n",
       "          [-6.8241e-02,  2.4591e-01],\n",
       "          [-1.4155e-01, -5.5441e-02],\n",
       "          [-1.4155e-01, -5.5441e-02],\n",
       "          [ 1.8387e-01,  3.9995e-01]]], grad_fn=<StackBackward0>),\n",
       " torch.Size([3, 5, 2]))"
      ]
     },
     "execution_count": 4,
     "metadata": {},
     "output_type": "execute_result"
    }
   ],
   "source": [
    "import torch\n",
    "import torch.nn as nn\n",
    "import numpy as np\n",
    "\n",
    "h = [1,0,0,0]\n",
    "e = [0,1,0,0]\n",
    "l = [0,0,1,0]\n",
    "o = [0,0,0,1]\n",
    "input_size = 4\n",
    "hidden_size = 2\n",
    "\n",
    "input_data = torch.Tensor(np.array([[h, e, l, l, o],\n",
    "                                    [e, o, l, l, l],\n",
    "                                    [l, l, e, e, l]], dtype=np.float32)) # shape 3,5,4\n",
    "rnn = nn.RNN(input_size, hidden_size)\n",
    "outputs, _status = rnn(input_data)\n",
    "outputs, outputs.shape # shape 3,5,2"
   ]
  }
 ],
 "metadata": {
  "interpreter": {
   "hash": "b3ba2566441a7c06988d0923437866b63cedc61552a5af99d1f4fb67d367b25f"
  },
  "kernelspec": {
   "display_name": "Python 3.9.7 64-bit ('base': conda)",
   "language": "python",
   "name": "python3"
  },
  "language_info": {
   "codemirror_mode": {
    "name": "ipython",
    "version": 3
   },
   "file_extension": ".py",
   "mimetype": "text/x-python",
   "name": "python",
   "nbconvert_exporter": "python",
   "pygments_lexer": "ipython3",
   "version": "3.9.7"
  },
  "orig_nbformat": 4
 },
 "nbformat": 4,
 "nbformat_minor": 2
}
