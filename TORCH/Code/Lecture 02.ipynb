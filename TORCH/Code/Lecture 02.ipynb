{
 "cells": [
  {
   "cell_type": "markdown",
   "metadata": {},
   "source": [
    "# Linear Regression"
   ]
  },
  {
   "cell_type": "code",
   "execution_count": null,
   "metadata": {},
   "outputs": [],
   "source": [
    "import torch\n",
    "import torch.optim as optim\n",
    "\n",
    "# data는 torch.tensor을 이용한다.\n",
    "# 입력과 출력을 따로 설정한다.\n",
    "\n",
    "x_train = torch.FloatTensor([1],[2],[3])\n",
    "y_train = torch.FloatTensor([2],[4],[6])\n",
    "# Hypothesis를 정의한다.\n",
    "# W, b는 0으로 초기화\n",
    "\n",
    "W = torch.zeros(1, requires_grad=True)\n",
    "b = torch.zeros(1, requires_grad=True)\n",
    "hypothesis = x_train * W + b\n",
    "\n",
    "# Objective/Loss/Cost function을 정의한다.\n",
    "\n",
    "cost = torch.mean((hypothesis - y_train) ** 2)\n",
    "\n",
    "# Optimizer : Cost function을 미분한 결과를 이용해서 W, b를 점차 원하는 값으로 줄여나가는 알고리즘\n",
    "\n",
    "optimizer = optim.SGD([W,b], lr=0.01)\n",
    "\n",
    "# 항상 붙어다니는 세줄\n",
    "# gradient 초기화 -> gradient 계산 -> step으로 parameter update\n",
    "\n",
    "optimizer.zero_grad()\n",
    "cost.backward()\n",
    "optimizer.step()"
   ]
  }
 ],
 "metadata": {
  "language_info": {
   "name": "python"
  },
  "orig_nbformat": 4
 },
 "nbformat": 4,
 "nbformat_minor": 2
}
