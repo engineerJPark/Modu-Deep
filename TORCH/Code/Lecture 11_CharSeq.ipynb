{
 "cells": [
  {
   "cell_type": "markdown",
   "metadata": {},
   "source": [
    "# CHARSEQ"
   ]
  },
  {
   "cell_type": "code",
   "execution_count": 1,
   "metadata": {},
   "outputs": [],
   "source": [
    "sample = \"if you want you\"\n"
   ]
  },
  {
   "cell_type": "code",
   "execution_count": 2,
   "metadata": {},
   "outputs": [],
   "source": [
    "import torch\n",
    "import torch.nn as nn\n",
    "import torch.optim as optim\n",
    "import numpy as np\n",
    "\n",
    "sample = \"if you want you\"\n",
    "\n",
    "# make dictionary\n",
    "char_set = list(set(sample))\n",
    "char_dic = {c: i for i, c in enumerate(char_set)}\n",
    "\n",
    "# hyperparameter\n",
    "dic_size = len(char_dic)\n",
    "hidden_size = len(char_dic)\n",
    "learning_rate = 0.1\n",
    "\n",
    "# data setting\n",
    "sample_idx = [char_dic[c] for c in sample] # 문장을 index로 표현한다.\n",
    "x_data = [sample_idx[:-1]] # 맨 마지막 data 제거 \n",
    "x_one_hot = [np.eye(dic_size)[x] for x in x_data] # 문장을 index로 표현한 것을 one hot encoding\n",
    "y_data = [sample_idx[1:]] # 맨 처음 data 제거 \n",
    "y_one_hot = [np.eye(dic_size)[x] for x in x_data]"
   ]
  },
  {
   "cell_type": "code",
   "execution_count": 3,
   "metadata": {},
   "outputs": [
    {
     "name": "stderr",
     "output_type": "stream",
     "text": [
      "C:\\Users\\jshac\\AppData\\Local\\Temp/ipykernel_18048/2348034151.py:1: UserWarning: Creating a tensor from a list of numpy.ndarrays is extremely slow. Please consider converting the list to a single numpy.ndarray with numpy.array() before converting to a tensor. (Triggered internally at  ..\\torch\\csrc\\utils\\tensor_new.cpp:201.)\n",
      "  X = torch.FloatTensor(x_one_hot)\n"
     ]
    }
   ],
   "source": [
    "X = torch.FloatTensor(x_one_hot)\n",
    "Y = torch.LongTensor(y_data)"
   ]
  },
  {
   "cell_type": "markdown",
   "metadata": {},
   "source": [
    "`np.eye()`는 identity를 만들어준다. 이를 indexing해서 one hot vector를 가져오는 것이다."
   ]
  },
  {
   "cell_type": "code",
   "execution_count": 4,
   "metadata": {},
   "outputs": [],
   "source": [
    "rnn = nn.RNN(dic_size, hidden_size, batch_first=True) # batch_first = True로 두면 batch dimension이 가장 앞으로 온다.\n",
    "\n",
    "criterion = nn.CrossEntropyLoss()\n",
    "optimizer = optim.Adam(rnn.parameters(), learning_rate)"
   ]
  },
  {
   "cell_type": "code",
   "execution_count": 5,
   "metadata": {},
   "outputs": [
    {
     "name": "stdout",
     "output_type": "stream",
     "text": [
      "Epoch : 1, Loss : 2.2848527431488037, accuracy : 0.1428571492433548, true Y : tensor([[0, 7, 9, 1, 3, 7, 5, 4, 8, 6, 7, 9, 1, 3]]), prediction :  f o     nw a \n",
      "Epoch : 2, Loss : 1.9500142335891724, accuracy : 0.2857142984867096, true Y : tensor([[0, 7, 9, 1, 3, 7, 5, 4, 8, 6, 7, 9, 1, 3]]), prediction :        t t    \n",
      "Epoch : 3, Loss : 1.7714499235153198, accuracy : 0.5, true Y : tensor([[0, 7, 9, 1, 3, 7, 5, 4, 8, 6, 7, 9, 1, 3]]), prediction :    oututut aou\n",
      "Epoch : 4, Loss : 1.6421031951904297, accuracy : 0.7142857313156128, true Y : tensor([[0, 7, 9, 1, 3, 7, 5, 4, 8, 6, 7, 9, 1, 3]]), prediction :   youtoynt you\n",
      "Epoch : 5, Loss : 1.5289194583892822, accuracy : 0.7142857313156128, true Y : tensor([[0, 7, 9, 1, 3, 7, 5, 4, 8, 6, 7, 9, 1, 3]]), prediction : y youtoynt you\n",
      "Epoch : 6, Loss : 1.457890510559082, accuracy : 0.7142857313156128, true Y : tensor([[0, 7, 9, 1, 3, 7, 5, 4, 8, 6, 7, 9, 1, 3]]), prediction : y youtoynt you\n",
      "Epoch : 7, Loss : 1.382590413093567, accuracy : 0.7142857313156128, true Y : tensor([[0, 7, 9, 1, 3, 7, 5, 4, 8, 6, 7, 9, 1, 3]]), prediction : y youtoynt you\n",
      "Epoch : 8, Loss : 1.3149595260620117, accuracy : 0.7857142686843872, true Y : tensor([[0, 7, 9, 1, 3, 7, 5, 4, 8, 6, 7, 9, 1, 3]]), prediction : y you oynt you\n",
      "Epoch : 9, Loss : 1.2492939233779907, accuracy : 0.8571428656578064, true Y : tensor([[0, 7, 9, 1, 3, 7, 5, 4, 8, 6, 7, 9, 1, 3]]), prediction : f you oynt you\n",
      "Epoch : 10, Loss : 1.1980829238891602, accuracy : 0.9285714030265808, true Y : tensor([[0, 7, 9, 1, 3, 7, 5, 4, 8, 6, 7, 9, 1, 3]]), prediction : f you oant you\n",
      "Epoch : 11, Loss : 1.1538069248199463, accuracy : 0.8571428656578064, true Y : tensor([[0, 7, 9, 1, 3, 7, 5, 4, 8, 6, 7, 9, 1, 3]]), prediction : f youyoant you\n",
      "Epoch : 12, Loss : 1.1124742031097412, accuracy : 0.8571428656578064, true Y : tensor([[0, 7, 9, 1, 3, 7, 5, 4, 8, 6, 7, 9, 1, 3]]), prediction : f youyoant you\n",
      "Epoch : 13, Loss : 1.0710402727127075, accuracy : 0.9285714030265808, true Y : tensor([[0, 7, 9, 1, 3, 7, 5, 4, 8, 6, 7, 9, 1, 3]]), prediction : f you oant you\n",
      "Epoch : 14, Loss : 1.044163703918457, accuracy : 0.8571428656578064, true Y : tensor([[0, 7, 9, 1, 3, 7, 5, 4, 8, 6, 7, 9, 1, 3]]), prediction : f you ount you\n",
      "Epoch : 15, Loss : 1.0168635845184326, accuracy : 0.8571428656578064, true Y : tensor([[0, 7, 9, 1, 3, 7, 5, 4, 8, 6, 7, 9, 1, 3]]), prediction : f you ount you\n",
      "Epoch : 16, Loss : 0.9984432458877563, accuracy : 0.8571428656578064, true Y : tensor([[0, 7, 9, 1, 3, 7, 5, 4, 8, 6, 7, 9, 1, 3]]), prediction : f you ount you\n",
      "Epoch : 17, Loss : 0.9791064858436584, accuracy : 0.8571428656578064, true Y : tensor([[0, 7, 9, 1, 3, 7, 5, 4, 8, 6, 7, 9, 1, 3]]), prediction : f you ount you\n",
      "Epoch : 18, Loss : 0.9603976607322693, accuracy : 0.8571428656578064, true Y : tensor([[0, 7, 9, 1, 3, 7, 5, 4, 8, 6, 7, 9, 1, 3]]), prediction : f you ount you\n",
      "Epoch : 19, Loss : 0.9441179633140564, accuracy : 0.8571428656578064, true Y : tensor([[0, 7, 9, 1, 3, 7, 5, 4, 8, 6, 7, 9, 1, 3]]), prediction : f you ount you\n",
      "Epoch : 20, Loss : 0.9297300577163696, accuracy : 0.8571428656578064, true Y : tensor([[0, 7, 9, 1, 3, 7, 5, 4, 8, 6, 7, 9, 1, 3]]), prediction : f you ount you\n",
      "Epoch : 21, Loss : 0.9191240668296814, accuracy : 0.8571428656578064, true Y : tensor([[0, 7, 9, 1, 3, 7, 5, 4, 8, 6, 7, 9, 1, 3]]), prediction : f you ount you\n",
      "Epoch : 22, Loss : 0.9114646315574646, accuracy : 0.8571428656578064, true Y : tensor([[0, 7, 9, 1, 3, 7, 5, 4, 8, 6, 7, 9, 1, 3]]), prediction : f you ount you\n",
      "Epoch : 23, Loss : 0.9050540924072266, accuracy : 0.8571428656578064, true Y : tensor([[0, 7, 9, 1, 3, 7, 5, 4, 8, 6, 7, 9, 1, 3]]), prediction : f you ount you\n",
      "Epoch : 24, Loss : 0.8990710377693176, accuracy : 0.8571428656578064, true Y : tensor([[0, 7, 9, 1, 3, 7, 5, 4, 8, 6, 7, 9, 1, 3]]), prediction : f you ount you\n",
      "Epoch : 25, Loss : 0.8935791850090027, accuracy : 0.9285714030265808, true Y : tensor([[0, 7, 9, 1, 3, 7, 5, 4, 8, 6, 7, 9, 1, 3]]), prediction : f you wunt you\n",
      "Epoch : 26, Loss : 0.888573944568634, accuracy : 0.9285714030265808, true Y : tensor([[0, 7, 9, 1, 3, 7, 5, 4, 8, 6, 7, 9, 1, 3]]), prediction : f you wunt you\n",
      "Epoch : 27, Loss : 0.8838641047477722, accuracy : 0.9285714030265808, true Y : tensor([[0, 7, 9, 1, 3, 7, 5, 4, 8, 6, 7, 9, 1, 3]]), prediction : f you wunt you\n",
      "Epoch : 28, Loss : 0.8790104985237122, accuracy : 0.9285714030265808, true Y : tensor([[0, 7, 9, 1, 3, 7, 5, 4, 8, 6, 7, 9, 1, 3]]), prediction : f you wunt you\n",
      "Epoch : 29, Loss : 0.8734809160232544, accuracy : 0.9285714030265808, true Y : tensor([[0, 7, 9, 1, 3, 7, 5, 4, 8, 6, 7, 9, 1, 3]]), prediction : f you wunt you\n",
      "Epoch : 30, Loss : 0.8673995137214661, accuracy : 1.0, true Y : tensor([[0, 7, 9, 1, 3, 7, 5, 4, 8, 6, 7, 9, 1, 3]]), prediction : f you want you\n",
      "Epoch : 31, Loss : 0.8608115911483765, accuracy : 1.0, true Y : tensor([[0, 7, 9, 1, 3, 7, 5, 4, 8, 6, 7, 9, 1, 3]]), prediction : f you want you\n",
      "Epoch : 32, Loss : 0.8577409982681274, accuracy : 1.0, true Y : tensor([[0, 7, 9, 1, 3, 7, 5, 4, 8, 6, 7, 9, 1, 3]]), prediction : f you want you\n",
      "Epoch : 33, Loss : 0.8676846623420715, accuracy : 1.0, true Y : tensor([[0, 7, 9, 1, 3, 7, 5, 4, 8, 6, 7, 9, 1, 3]]), prediction : f you want you\n",
      "Epoch : 34, Loss : 0.8691979050636292, accuracy : 1.0, true Y : tensor([[0, 7, 9, 1, 3, 7, 5, 4, 8, 6, 7, 9, 1, 3]]), prediction : f you want you\n",
      "Epoch : 35, Loss : 0.8537431359291077, accuracy : 1.0, true Y : tensor([[0, 7, 9, 1, 3, 7, 5, 4, 8, 6, 7, 9, 1, 3]]), prediction : f you want you\n",
      "Epoch : 36, Loss : 0.850044846534729, accuracy : 1.0, true Y : tensor([[0, 7, 9, 1, 3, 7, 5, 4, 8, 6, 7, 9, 1, 3]]), prediction : f you want you\n",
      "Epoch : 37, Loss : 0.8535880446434021, accuracy : 1.0, true Y : tensor([[0, 7, 9, 1, 3, 7, 5, 4, 8, 6, 7, 9, 1, 3]]), prediction : f you want you\n",
      "Epoch : 38, Loss : 0.841352641582489, accuracy : 1.0, true Y : tensor([[0, 7, 9, 1, 3, 7, 5, 4, 8, 6, 7, 9, 1, 3]]), prediction : f you want you\n",
      "Epoch : 39, Loss : 0.8354161381721497, accuracy : 1.0, true Y : tensor([[0, 7, 9, 1, 3, 7, 5, 4, 8, 6, 7, 9, 1, 3]]), prediction : f you want you\n",
      "Epoch : 40, Loss : 0.8337485194206238, accuracy : 1.0, true Y : tensor([[0, 7, 9, 1, 3, 7, 5, 4, 8, 6, 7, 9, 1, 3]]), prediction : f you want you\n",
      "Epoch : 41, Loss : 0.8319433331489563, accuracy : 1.0, true Y : tensor([[0, 7, 9, 1, 3, 7, 5, 4, 8, 6, 7, 9, 1, 3]]), prediction : f you want you\n",
      "Epoch : 42, Loss : 0.8285198211669922, accuracy : 1.0, true Y : tensor([[0, 7, 9, 1, 3, 7, 5, 4, 8, 6, 7, 9, 1, 3]]), prediction : f you want you\n",
      "Epoch : 43, Loss : 0.8253160119056702, accuracy : 1.0, true Y : tensor([[0, 7, 9, 1, 3, 7, 5, 4, 8, 6, 7, 9, 1, 3]]), prediction : f you want you\n",
      "Epoch : 44, Loss : 0.8259762525558472, accuracy : 1.0, true Y : tensor([[0, 7, 9, 1, 3, 7, 5, 4, 8, 6, 7, 9, 1, 3]]), prediction : f you want you\n",
      "Epoch : 45, Loss : 0.82563316822052, accuracy : 1.0, true Y : tensor([[0, 7, 9, 1, 3, 7, 5, 4, 8, 6, 7, 9, 1, 3]]), prediction : f you want you\n",
      "Epoch : 46, Loss : 0.8248146772384644, accuracy : 1.0, true Y : tensor([[0, 7, 9, 1, 3, 7, 5, 4, 8, 6, 7, 9, 1, 3]]), prediction : f you want you\n",
      "Epoch : 47, Loss : 0.8260815739631653, accuracy : 1.0, true Y : tensor([[0, 7, 9, 1, 3, 7, 5, 4, 8, 6, 7, 9, 1, 3]]), prediction : f you want you\n",
      "Epoch : 48, Loss : 0.8246111273765564, accuracy : 1.0, true Y : tensor([[0, 7, 9, 1, 3, 7, 5, 4, 8, 6, 7, 9, 1, 3]]), prediction : f you want you\n",
      "Epoch : 49, Loss : 0.8233559727668762, accuracy : 1.0, true Y : tensor([[0, 7, 9, 1, 3, 7, 5, 4, 8, 6, 7, 9, 1, 3]]), prediction : f you want you\n",
      "Epoch : 50, Loss : 0.8231602907180786, accuracy : 1.0, true Y : tensor([[0, 7, 9, 1, 3, 7, 5, 4, 8, 6, 7, 9, 1, 3]]), prediction : f you want you\n",
      "Epoch : 51, Loss : 0.8213362693786621, accuracy : 1.0, true Y : tensor([[0, 7, 9, 1, 3, 7, 5, 4, 8, 6, 7, 9, 1, 3]]), prediction : f you want you\n",
      "Epoch : 52, Loss : 0.8204869031906128, accuracy : 1.0, true Y : tensor([[0, 7, 9, 1, 3, 7, 5, 4, 8, 6, 7, 9, 1, 3]]), prediction : f you want you\n",
      "Epoch : 53, Loss : 0.8203122019767761, accuracy : 1.0, true Y : tensor([[0, 7, 9, 1, 3, 7, 5, 4, 8, 6, 7, 9, 1, 3]]), prediction : f you want you\n",
      "Epoch : 54, Loss : 0.8196308016777039, accuracy : 1.0, true Y : tensor([[0, 7, 9, 1, 3, 7, 5, 4, 8, 6, 7, 9, 1, 3]]), prediction : f you want you\n",
      "Epoch : 55, Loss : 0.8186972737312317, accuracy : 1.0, true Y : tensor([[0, 7, 9, 1, 3, 7, 5, 4, 8, 6, 7, 9, 1, 3]]), prediction : f you want you\n",
      "Epoch : 56, Loss : 0.8183197975158691, accuracy : 1.0, true Y : tensor([[0, 7, 9, 1, 3, 7, 5, 4, 8, 6, 7, 9, 1, 3]]), prediction : f you want you\n",
      "Epoch : 57, Loss : 0.8183867335319519, accuracy : 1.0, true Y : tensor([[0, 7, 9, 1, 3, 7, 5, 4, 8, 6, 7, 9, 1, 3]]), prediction : f you want you\n",
      "Epoch : 58, Loss : 0.8180152773857117, accuracy : 1.0, true Y : tensor([[0, 7, 9, 1, 3, 7, 5, 4, 8, 6, 7, 9, 1, 3]]), prediction : f you want you\n",
      "Epoch : 59, Loss : 0.8176833987236023, accuracy : 1.0, true Y : tensor([[0, 7, 9, 1, 3, 7, 5, 4, 8, 6, 7, 9, 1, 3]]), prediction : f you want you\n",
      "Epoch : 60, Loss : 0.8176580667495728, accuracy : 1.0, true Y : tensor([[0, 7, 9, 1, 3, 7, 5, 4, 8, 6, 7, 9, 1, 3]]), prediction : f you want you\n",
      "Epoch : 61, Loss : 0.8174770474433899, accuracy : 1.0, true Y : tensor([[0, 7, 9, 1, 3, 7, 5, 4, 8, 6, 7, 9, 1, 3]]), prediction : f you want you\n",
      "Epoch : 62, Loss : 0.8170443773269653, accuracy : 1.0, true Y : tensor([[0, 7, 9, 1, 3, 7, 5, 4, 8, 6, 7, 9, 1, 3]]), prediction : f you want you\n",
      "Epoch : 63, Loss : 0.8166953325271606, accuracy : 1.0, true Y : tensor([[0, 7, 9, 1, 3, 7, 5, 4, 8, 6, 7, 9, 1, 3]]), prediction : f you want you\n",
      "Epoch : 64, Loss : 0.8165527582168579, accuracy : 1.0, true Y : tensor([[0, 7, 9, 1, 3, 7, 5, 4, 8, 6, 7, 9, 1, 3]]), prediction : f you want you\n",
      "Epoch : 65, Loss : 0.8163226842880249, accuracy : 1.0, true Y : tensor([[0, 7, 9, 1, 3, 7, 5, 4, 8, 6, 7, 9, 1, 3]]), prediction : f you want you\n",
      "Epoch : 66, Loss : 0.8160755038261414, accuracy : 1.0, true Y : tensor([[0, 7, 9, 1, 3, 7, 5, 4, 8, 6, 7, 9, 1, 3]]), prediction : f you want you\n",
      "Epoch : 67, Loss : 0.8159674406051636, accuracy : 1.0, true Y : tensor([[0, 7, 9, 1, 3, 7, 5, 4, 8, 6, 7, 9, 1, 3]]), prediction : f you want you\n",
      "Epoch : 68, Loss : 0.8158249258995056, accuracy : 1.0, true Y : tensor([[0, 7, 9, 1, 3, 7, 5, 4, 8, 6, 7, 9, 1, 3]]), prediction : f you want you\n",
      "Epoch : 69, Loss : 0.8155645728111267, accuracy : 1.0, true Y : tensor([[0, 7, 9, 1, 3, 7, 5, 4, 8, 6, 7, 9, 1, 3]]), prediction : f you want you\n",
      "Epoch : 70, Loss : 0.8153358101844788, accuracy : 1.0, true Y : tensor([[0, 7, 9, 1, 3, 7, 5, 4, 8, 6, 7, 9, 1, 3]]), prediction : f you want you\n",
      "Epoch : 71, Loss : 0.815216064453125, accuracy : 1.0, true Y : tensor([[0, 7, 9, 1, 3, 7, 5, 4, 8, 6, 7, 9, 1, 3]]), prediction : f you want you\n",
      "Epoch : 72, Loss : 0.815062940120697, accuracy : 1.0, true Y : tensor([[0, 7, 9, 1, 3, 7, 5, 4, 8, 6, 7, 9, 1, 3]]), prediction : f you want you\n",
      "Epoch : 73, Loss : 0.8148829340934753, accuracy : 1.0, true Y : tensor([[0, 7, 9, 1, 3, 7, 5, 4, 8, 6, 7, 9, 1, 3]]), prediction : f you want you\n",
      "Epoch : 74, Loss : 0.8147855401039124, accuracy : 1.0, true Y : tensor([[0, 7, 9, 1, 3, 7, 5, 4, 8, 6, 7, 9, 1, 3]]), prediction : f you want you\n",
      "Epoch : 75, Loss : 0.8147019743919373, accuracy : 1.0, true Y : tensor([[0, 7, 9, 1, 3, 7, 5, 4, 8, 6, 7, 9, 1, 3]]), prediction : f you want you\n",
      "Epoch : 76, Loss : 0.8145515322685242, accuracy : 1.0, true Y : tensor([[0, 7, 9, 1, 3, 7, 5, 4, 8, 6, 7, 9, 1, 3]]), prediction : f you want you\n",
      "Epoch : 77, Loss : 0.814391553401947, accuracy : 1.0, true Y : tensor([[0, 7, 9, 1, 3, 7, 5, 4, 8, 6, 7, 9, 1, 3]]), prediction : f you want you\n",
      "Epoch : 78, Loss : 0.8142880201339722, accuracy : 1.0, true Y : tensor([[0, 7, 9, 1, 3, 7, 5, 4, 8, 6, 7, 9, 1, 3]]), prediction : f you want you\n",
      "Epoch : 79, Loss : 0.814176619052887, accuracy : 1.0, true Y : tensor([[0, 7, 9, 1, 3, 7, 5, 4, 8, 6, 7, 9, 1, 3]]), prediction : f you want you\n",
      "Epoch : 80, Loss : 0.8140367269515991, accuracy : 1.0, true Y : tensor([[0, 7, 9, 1, 3, 7, 5, 4, 8, 6, 7, 9, 1, 3]]), prediction : f you want you\n",
      "Epoch : 81, Loss : 0.813947856426239, accuracy : 1.0, true Y : tensor([[0, 7, 9, 1, 3, 7, 5, 4, 8, 6, 7, 9, 1, 3]]), prediction : f you want you\n",
      "Epoch : 82, Loss : 0.8138867616653442, accuracy : 1.0, true Y : tensor([[0, 7, 9, 1, 3, 7, 5, 4, 8, 6, 7, 9, 1, 3]]), prediction : f you want you\n",
      "Epoch : 83, Loss : 0.8137950301170349, accuracy : 1.0, true Y : tensor([[0, 7, 9, 1, 3, 7, 5, 4, 8, 6, 7, 9, 1, 3]]), prediction : f you want you\n",
      "Epoch : 84, Loss : 0.8137011528015137, accuracy : 1.0, true Y : tensor([[0, 7, 9, 1, 3, 7, 5, 4, 8, 6, 7, 9, 1, 3]]), prediction : f you want you\n",
      "Epoch : 85, Loss : 0.8136311769485474, accuracy : 1.0, true Y : tensor([[0, 7, 9, 1, 3, 7, 5, 4, 8, 6, 7, 9, 1, 3]]), prediction : f you want you\n",
      "Epoch : 86, Loss : 0.8135374188423157, accuracy : 1.0, true Y : tensor([[0, 7, 9, 1, 3, 7, 5, 4, 8, 6, 7, 9, 1, 3]]), prediction : f you want you\n",
      "Epoch : 87, Loss : 0.8134251236915588, accuracy : 1.0, true Y : tensor([[0, 7, 9, 1, 3, 7, 5, 4, 8, 6, 7, 9, 1, 3]]), prediction : f you want you\n",
      "Epoch : 88, Loss : 0.813335120677948, accuracy : 1.0, true Y : tensor([[0, 7, 9, 1, 3, 7, 5, 4, 8, 6, 7, 9, 1, 3]]), prediction : f you want you\n",
      "Epoch : 89, Loss : 0.813247561454773, accuracy : 1.0, true Y : tensor([[0, 7, 9, 1, 3, 7, 5, 4, 8, 6, 7, 9, 1, 3]]), prediction : f you want you\n",
      "Epoch : 90, Loss : 0.8131511807441711, accuracy : 1.0, true Y : tensor([[0, 7, 9, 1, 3, 7, 5, 4, 8, 6, 7, 9, 1, 3]]), prediction : f you want you\n",
      "Epoch : 91, Loss : 0.8130718469619751, accuracy : 1.0, true Y : tensor([[0, 7, 9, 1, 3, 7, 5, 4, 8, 6, 7, 9, 1, 3]]), prediction : f you want you\n",
      "Epoch : 92, Loss : 0.8130062818527222, accuracy : 1.0, true Y : tensor([[0, 7, 9, 1, 3, 7, 5, 4, 8, 6, 7, 9, 1, 3]]), prediction : f you want you\n",
      "Epoch : 93, Loss : 0.8129302263259888, accuracy : 1.0, true Y : tensor([[0, 7, 9, 1, 3, 7, 5, 4, 8, 6, 7, 9, 1, 3]]), prediction : f you want you\n",
      "Epoch : 94, Loss : 0.8128553628921509, accuracy : 1.0, true Y : tensor([[0, 7, 9, 1, 3, 7, 5, 4, 8, 6, 7, 9, 1, 3]]), prediction : f you want you\n",
      "Epoch : 95, Loss : 0.812789797782898, accuracy : 1.0, true Y : tensor([[0, 7, 9, 1, 3, 7, 5, 4, 8, 6, 7, 9, 1, 3]]), prediction : f you want you\n",
      "Epoch : 96, Loss : 0.8127175569534302, accuracy : 1.0, true Y : tensor([[0, 7, 9, 1, 3, 7, 5, 4, 8, 6, 7, 9, 1, 3]]), prediction : f you want you\n",
      "Epoch : 97, Loss : 0.8126392364501953, accuracy : 1.0, true Y : tensor([[0, 7, 9, 1, 3, 7, 5, 4, 8, 6, 7, 9, 1, 3]]), prediction : f you want you\n",
      "Epoch : 98, Loss : 0.8125689625740051, accuracy : 1.0, true Y : tensor([[0, 7, 9, 1, 3, 7, 5, 4, 8, 6, 7, 9, 1, 3]]), prediction : f you want you\n",
      "Epoch : 99, Loss : 0.812501072883606, accuracy : 1.0, true Y : tensor([[0, 7, 9, 1, 3, 7, 5, 4, 8, 6, 7, 9, 1, 3]]), prediction : f you want you\n",
      "Epoch : 100, Loss : 0.8124289512634277, accuracy : 1.0, true Y : tensor([[0, 7, 9, 1, 3, 7, 5, 4, 8, 6, 7, 9, 1, 3]]), prediction : f you want you\n"
     ]
    }
   ],
   "source": [
    "epochs = 100\n",
    "for i in range(epochs):\n",
    "    optimizer.zero_grad()\n",
    "    output, _status = rnn(X) # 원래 _status는 다음 hidden state이지만 당장은 쓰지 않는다. \n",
    "    loss = criterion(output.view(-1, dic_size), Y.view(-1))\n",
    "    loss.backward()\n",
    "    optimizer.step()\n",
    "    \n",
    "    result = torch.argmax(output.view(-1, dic_size), 1)\n",
    "    accuracy = (result == Y).float().mean()\n",
    "    result_str = ''.join([char_set[c] for c in torch.squeeze(result)])\n",
    "    \n",
    "    print(\"Epoch : {}, Loss : {}, accuracy : {}, true Y : {}, prediction : {}\".format(i + 1, loss, accuracy, Y, result_str))"
   ]
  },
  {
   "cell_type": "code",
   "execution_count": null,
   "metadata": {},
   "outputs": [],
   "source": []
  }
 ],
 "metadata": {
  "interpreter": {
   "hash": "b3ba2566441a7c06988d0923437866b63cedc61552a5af99d1f4fb67d367b25f"
  },
  "kernelspec": {
   "display_name": "Python 3.9.7 64-bit ('base': conda)",
   "language": "python",
   "name": "python3"
  },
  "language_info": {
   "codemirror_mode": {
    "name": "ipython",
    "version": 3
   },
   "file_extension": ".py",
   "mimetype": "text/x-python",
   "name": "python",
   "nbconvert_exporter": "python",
   "pygments_lexer": "ipython3",
   "version": "3.9.7"
  },
  "orig_nbformat": 4
 },
 "nbformat": 4,
 "nbformat_minor": 2
}
